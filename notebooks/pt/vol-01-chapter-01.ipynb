{
 "cells": [
  {
   "cell_type": "markdown",
   "metadata": {},
   "source": [
    "# Problemas do Capítulo 1"
   ]
  },
  {
   "cell_type": "markdown",
   "metadata": {},
   "source": [
    "## 1.1\n",
    "\n",
    "Estime o número de fios de cabelo que você tem na sua cabeça."
   ]
  },
  {
   "cell_type": "code",
   "execution_count": null,
   "metadata": {},
   "outputs": [],
   "source": [
    "D_head = 0.15;\n",
    "\n",
    "D_hair = 100e-06;\n",
    "\n",
    "A_head = 4 * pi * (D_head / 2)^2;\n",
    "\n",
    "A_hair = pi * (D_hair / 2)^2;\n",
    "\n",
    "hair_influence_area = 30;\n",
    "\n",
    "hair_covered_frac = 1 / 3;\n",
    "\n",
    "A_head_hair = hair_covered_frac * A_head;\n",
    "\n",
    "n_hair = A_head_hair / (hair_influence_area * A_hair);\n",
    "\n",
    "n_hair"
   ]
  },
  {
   "cell_type": "markdown",
   "metadata": {},
   "source": [
    "## 1.2\n",
    "\n",
    "Estime o número de folhas de uma árvore."
   ]
  },
  {
   "cell_type": "markdown",
   "metadata": {},
   "source": []
  },
  {
   "cell_type": "markdown",
   "metadata": {},
   "source": [
    "## 1.3\n",
    "\n",
    "Estime o volume ocupado pelo número de notas de R$ 1,00, correspondente à dívida externa do Brasil. Se pudessem ser empilhadas, que altura atingiria a pilha?"
   ]
  },
  {
   "cell_type": "markdown",
   "metadata": {},
   "source": [
    "## 1.4\n",
    "\n",
    "Estime o número médio de gotas de chuva que caem sobre uma área de 1 km² para uma precipitação de 1 cm de chuva."
   ]
  },
  {
   "cell_type": "markdown",
   "metadata": {},
   "source": [
    "## 1.5\n",
    "\n",
    "(a) Estime o número de grãos de areia da praia de Copacabana (ou de outra que você conheça melhor). (b) Estime o número de átomos contido num grão de areia. Compare as duas estimativas."
   ]
  },
  {
   "cell_type": "markdown",
   "metadata": {},
   "source": [
    "## 1.6\n",
    "\n",
    "Em cada inspiração, absorvemos cerca de 15% do oxigênio que penetra em nossos pulmões. Num típico elevador lotado de um prédio de apartamentos, preso entre dois andares, quanto tempo levaria para que 10% do oxigênio contido na cabine fosse consumido?"
   ]
  },
  {
   "cell_type": "markdown",
   "metadata": {},
   "source": [
    "## 1.7\n",
    "\n",
    "Quanto tempo leva a luz do Sol para chegar até a Terra? E até Plutão?"
   ]
  },
  {
   "cell_type": "markdown",
   "metadata": {},
   "source": [
    "## 1.8\n",
    "\n",
    "Estima-se que a densidade média de matéria no universo corresponde a da ordem de 0,2 átomos de hidrogênio por m³. (a) Estime a massa total contida dentro do raio do universo; (b) Estime o número total de núcleons (neutrons e prótons) contido nesse volume; (c) Compare a densidade média de matéria no universo com a densidade típica no interior do núcleo atômico.\n"
   ]
  },
  {
   "cell_type": "markdown",
   "metadata": {},
   "source": [
    "## 1.9\n",
    "\n",
    "A população atual (2012) da Terra é da ordem de 7 bilhões de pessoas, e duplicou em menos de 50 anos. Se a população continuar duplicando a cada 50 anos, qual será a ordem de grandeza da população da Terra no ano 3000? Qual seria a área da superfície da Terra disponível por habitante nessa época, com as mesmas hipóteses?\n"
   ]
  },
  {
   "cell_type": "markdown",
   "metadata": {},
   "source": [
    "## 1.10\n",
    "\n",
    "Segundo o físico inglês James Jeans, em cada inspiração, há uma probabilidade apreciável de que penetre em nossos pulmões uma molécula de ar remanescente do último suspiro exalado por Júlio César. Verifique essa estimativa."
   ]
  },
  {
   "cell_type": "markdown",
   "metadata": {},
   "source": [
    "## 1.11\n",
    "\n",
    "Quando o Sol se põe, decorrem aproximadamente 2 minutos entre o instante em que o disco solar encosta no horizonte e sua ocultação completa. A partir deste dado, estime o diâmetro angular aparente do Sol visto da Terra, em graus e em radianos."
   ]
  },
  {
   "cell_type": "markdown",
   "metadata": {},
   "source": [
    "## 1.12\n",
    "\n",
    "Um parsec é definido como a distância a partir da qual uma unidade astronômica (distância média Terra-Sol) seria vista subtendendo um ângulo (paralaxe) de 1 segundo. Calcule 1 parsec em m e em anos-luz.\n"
   ]
  },
  {
   "cell_type": "markdown",
   "metadata": {},
   "source": [
    "## 1.13\n",
    "\n",
    "Admitindo que a idade do universo é da ordem de 10 bilhões de anos, que fração do $U^{238}$ inicialmente formado já se desintegrou?\n"
   ]
  },
  {
   "cell_type": "markdown",
   "metadata": {},
   "source": [
    "## 1.14\n",
    "\n",
    "Analisando uma amostra de rocha, verifica-se que ela contém 1,58 mg de $U^{238}$ e 0,342 mg de $Pb^{206}$, que é o produto final estável da desintegração do $U^{238}$. Admitindo que todo o $Pb^{206}$ encontrado provém da desintegração do $U^{238}$ contido na amostra, qual é a idade da rocha?\n"
   ]
  },
  {
   "cell_type": "markdown",
   "metadata": {},
   "source": [
    "## 1.15\n",
    "\n",
    "No século III a. C., o astrônomo grego Aristarco de Samos estimou a razão $d_S/d_L$ entre a distância $d_S$ da Terra ao Sol e a distância $d_L$ da Terra à Lua medindo o ângulo $\\theta$ entre as direções em que a Lua e o Sol são vistos da Terra quando a Lua está exatamente \"meio cheia\" (metade do disco lunar iluminado: veja a Figura). O valor que obteve foi $\\theta=87^\\circ$. (a) encontre a estimativa de Aristarco para $d_S/d_L$. (b) Com base nos valores atualmente conhecidos, $d_S/d_L\\approx{} 389$. Ache o valor real de $\\theta$ e critique o método de Aristarco.\n"
   ]
  },
  {
   "cell_type": "markdown",
   "metadata": {},
   "source": [
    "## 1.16\n",
    "\n",
    "Em seu tratado \"Cálculos com Areia\", Arquimedes inventou uma notação para exprimir números muito grandes e usou-a para estimar o número de grãos de areia que caberiam no \"universo\" da sua época, cujo raio era identificado com a distância da Terra ao Sol. O número que encontrou, em notação moderna, seria inferior a $10^{51}$. Verifique a estimativa de Arquimedes."
   ]
  }
 ],
 "metadata": {
  "kernelspec": {
   "display_name": "Julia 1.7.2",
   "language": "julia",
   "name": "julia-1.7"
  },
  "language_info": {
   "file_extension": ".jl",
   "mimetype": "application/julia",
   "name": "julia",
   "version": "1.7.2"
  },
  "orig_nbformat": 4
 },
 "nbformat": 4,
 "nbformat_minor": 2
}
